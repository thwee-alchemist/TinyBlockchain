{
 "cells": [
  {
   "cell_type": "markdown",
   "metadata": {},
   "source": [
    "# Building a Blockchain\n",
    "following the tutorial at [medium.com](https://medium.com/crypto-currently/lets-build-the-tiniest-blockchain-e70965a248b).\n"
   ]
  },
  {
   "cell_type": "code",
   "execution_count": 1,
   "metadata": {},
   "outputs": [],
   "source": [
    "import hashlib\n",
    "import json\n",
    "\n",
    "class Block:\n",
    "    def __init__(self, index, timestamp, data, previous_hash):\n",
    "        self.index = index\n",
    "        self.timestamp = timestamp\n",
    "        self.data = data\n",
    "        self.previous_hash = previous_hash\n",
    "        self.hash = self.hash_block()\n",
    "        \n",
    "    def hash_block(self):\n",
    "        sha = hashlib.sha256()\n",
    "        sha.update(\n",
    "            str(self.index) + \n",
    "            str(self.timestamp) + \n",
    "            str(self.data) + \n",
    "            str(self.previous_hash))\n",
    "        return sha.hexdigest()\n",
    "    \n",
    "    def __repr__(self):\n",
    "        return json.dumps({\n",
    "            'index': self.index,\n",
    "            'timestamp': self.timestamp,\n",
    "            'data': self.data,\n",
    "            'previous_hash': self.previous_hash,\n",
    "            'hash': self.hash\n",
    "        })\n",
    "    \n",
    "    def repr(self):\n",
    "        return self.__repr__()"
   ]
  },
  {
   "cell_type": "code",
   "execution_count": 2,
   "metadata": {},
   "outputs": [],
   "source": [
    "import datetime\n",
    "def create_genesis_block():\n",
    "    block = Block(\n",
    "        0, \n",
    "        datetime.datetime.now().isoformat(), \n",
    "        {\n",
    "            'proof-of-work': 9,\n",
    "            'transactions': []\n",
    "        }, \n",
    "        '0'\n",
    "    )\n",
    "    return block"
   ]
  },
  {
   "cell_type": "code",
   "execution_count": 3,
   "metadata": {},
   "outputs": [],
   "source": [
    "def next_block(block):\n",
    "    return Block(\n",
    "        block.index + 1, \n",
    "        datetime.datetime.now().isoformat(),\n",
    "        \"Hey, I'm block \" + str(block.index + 1),\n",
    "        block.hash\n",
    "    )"
   ]
  },
  {
   "cell_type": "code",
   "execution_count": 4,
   "metadata": {},
   "outputs": [],
   "source": [
    "# Create the blockchain and add the genesis block\n",
    "blockchain = [create_genesis_block()]\n",
    "previous_block = blockchain[0]\n",
    "\n",
    "# How many blocks should we add to the chain\n",
    "# after the genesis block\n",
    "# num_of_blocks_to_add = 20\n",
    "\n",
    "# Add blocks to the chain\n",
    "#for i in range(0, num_of_blocks_to_add):\n",
    "#    block_to_add = next_block(previous_block)\n",
    "#    blockchain.append(block_to_add)\n",
    "#    previous_block = block_to_add\n",
    "#    # Tell everyone about it!\n",
    "#    print \"Block #{} has been added to the blockchain!\".format(block_to_add.index)\n",
    "#    print \"Hash: {}\\n\".format(block_to_add.hash) "
   ]
  },
  {
   "cell_type": "code",
   "execution_count": 5,
   "metadata": {},
   "outputs": [],
   "source": [
    "from flask import Flask\n",
    "from flask import request\n",
    "node = Flask(__name__)\n",
    "\n",
    "transactions = []\n",
    "\n",
    "@node.route('/transaction', methods=['POST'])\n",
    "def transaction():\n",
    "    if request.method == \"POST\":\n",
    "        transaction = request.get_json()\n",
    "        transactions.append(transaction)\n",
    "\n",
    "        print('New Transaction')\n",
    "        print(json.dumps(transaction))\n",
    "        \n",
    "        return \"Transaction submission successful.\\n\""
   ]
  },
  {
   "cell_type": "code",
   "execution_count": 6,
   "metadata": {},
   "outputs": [],
   "source": [
    "import json\n",
    "miner_address = 'sdiflbasdilcbasdcounawc-random-miner-address-alskcascjnaoscuaocn'\n",
    "\n",
    "def proof_of_work(last_proof):\n",
    "    incrementor = last_proof + 1\n",
    "    while not (incrementor % 9 == 0 and incrementor % last_proof == 0):\n",
    "        incrementor += 1\n",
    "        \n",
    "    return incrementor\n",
    "\n",
    "@node.route('/mine', methods=['GET'])\n",
    "def mine():\n",
    "    last_block = blockchain[-1]\n",
    "    last_proof = last_block.data['proof-of-work']\n",
    "    proof = proof_of_work(last_proof)\n",
    "    transactions.append(\n",
    "        {\"from\": \"network\", \"to\": miner_address, \"amount\": 1}\n",
    "    )\n",
    "    \n",
    "    mined_block = Block(\n",
    "        last_block.index + 1,\n",
    "        datetime.datetime.now().isoformat(),\n",
    "        {\n",
    "            'proof-of-work': proof,\n",
    "            'transactions': list(transactions)\n",
    "        },\n",
    "        last_block.hash\n",
    "    )\n",
    "    \n",
    "    blockchain.append(mined_block)\n",
    "    \n",
    "    transactions[:] = []\n",
    "    \n",
    "    return repr(mined_block) + '\\n'\n"
   ]
  },
  {
   "cell_type": "code",
   "execution_count": 7,
   "metadata": {},
   "outputs": [],
   "source": [
    "peer_nodes = []\n",
    "\n",
    "@node.route('/add_node', methods=['POST'])\n",
    "def add_node():\n",
    "    n = request.get_json()\n",
    "    peer_nodes.append(n['node'])\n",
    "    \n",
    "    return \"Node added\"\n",
    "    \n",
    "@node.route('/blocks', methods=['GET'])\n",
    "def get_blocks():\n",
    "    consensus()\n",
    "    \n",
    "    chain_to_send = blockchain\n",
    "    \n",
    "    for block in chain_to_send:\n",
    "        block = {\n",
    "            'index': block.index,\n",
    "            'timestamp': block.timestamp,\n",
    "            'data': block.data,\n",
    "            'hash': block.hash\n",
    "        }\n",
    "        \n",
    "        chain_to_send = json.dumps(chain_to_send)\n",
    "        return chain_to_send\n",
    "    \n",
    "def find_new_chains():\n",
    "    other_chains = []\n",
    "    for node_url in peer_nodes:\n",
    "        \n",
    "        try:\n",
    "            block = requests.get(node_url + '/blocks').content\n",
    "        except:\n",
    "            peer_nodes.remove(node_url)\n",
    "            \n",
    "        block = json.loads(block)\n",
    "        other_chains.append(block)\n",
    "    return other_chains\n",
    "    \n",
    "def consensus():\n",
    "    other_chains = find_new_chains()\n",
    "    longest_chain = blockchain\n",
    "    for chain in other_chains:\n",
    "        if len(longest_chain) < len(chain):\n",
    "            longest_chain = chain\n",
    "    blockchain = longest_chain"
   ]
  },
  {
   "cell_type": "code",
   "execution_count": null,
   "metadata": {},
   "outputs": [
    {
     "name": "stderr",
     "output_type": "stream",
     "text": [
      " * Running on http://127.0.0.1:16001/ (Press CTRL+C to quit)\n",
      "127.0.0.1 - - [23/Mar/2018 18:47:09] \"\u001b[33mPOST / HTTP/1.1\u001b[0m\" 404 -\n",
      "127.0.0.1 - - [23/Mar/2018 18:47:46] \"\u001b[33mPOST / HTTP/1.1\u001b[0m\" 404 -\n"
     ]
    }
   ],
   "source": [
    "node.run(port=16001)"
   ]
  },
  {
   "cell_type": "raw",
   "metadata": {},
   "source": []
  },
  {
   "cell_type": "markdown",
   "metadata": {},
   "source": [
    "In bash: \n",
    "\n",
    "    python TinyBlockchain.py 16001 &\n",
    "    python TinyBlockchain.py 16002 &\n",
    "    \n",
    "    curl \"localhost:16001/add_node\" \\\n",
    "    -X POST \\\n",
    "    -H \"Content-Type: application/json\" \\\n",
    "    -d '{\"node\": \"localhost:16602\"}'\n",
    "    \n",
    "    curl \"localhost:16002/add_node\" \\\n",
    "    -X POST \\\n",
    "    -H \"Content-Type: application/json\" \\\n",
    "    -d '{\"node\": \"localhost:16601\"}'\n",
    "\n",
    "    curl \"localhost:16001/transaction\" \\\n",
    "    -H \"Content-Type: application/json\" \\\n",
    "    -d '{\"from\": \"akjflw\", \"to\":\"fjlakdj\", \"amount\": 3}'\n",
    "    \n",
    "    curl \"localhost:16001/transaction\" \\\n",
    "    -H \"Content-Type: application/json\" \\\n",
    "    -d '{\"from\": \"akjflw\", \"to\":\"fjlakdj\", \"amount\": 3}'\n",
    "    \n",
    "    curl \"localhost:16001/transaction\" \\\n",
    "    -H \"Content-Type: application/json\" \\\n",
    "    -d '{\"from\": \"akjflw\", \"to\":\"fjlakdj\", \"amount\": 3}'\n",
    "    \n",
    "    curl \"localhost:16001/mine\""
   ]
  },
  {
   "cell_type": "code",
   "execution_count": null,
   "metadata": {},
   "outputs": [],
   "source": []
  }
 ],
 "metadata": {
  "kernelspec": {
   "display_name": "Python 3",
   "language": "python",
   "name": "python3"
  },
  "language_info": {
   "codemirror_mode": {
    "name": "ipython",
    "version": 2
   },
   "file_extension": ".py",
   "mimetype": "text/x-python",
   "name": "python",
   "nbconvert_exporter": "python",
   "pygments_lexer": "ipython2",
   "version": "2.7.12"
  }
 },
 "nbformat": 4,
 "nbformat_minor": 2
}
